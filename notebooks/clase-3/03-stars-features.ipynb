{
 "cells": [
  {
   "cell_type": "code",
   "execution_count": 1,
   "metadata": {},
   "outputs": [],
   "source": [
    "from sklearn.pipeline import make_pipeline, make_union\n",
    "from sklearn.feature_extraction import DictVectorizer\n",
    "from sklearn.linear_model import LogisticRegression\n",
    "from sklearn.preprocessing import StandardScaler\n",
    "from sklearn.metrics import roc_auc_score\n",
    "from pathlib import Path\n",
    "\n",
    "import pandas as pd"
   ]
  },
  {
   "cell_type": "code",
   "execution_count": 2,
   "metadata": {},
   "outputs": [],
   "source": [
    "import sys\n",
    "sys.path.append('/Users/przivic/prog/machine_learning_practico')"
   ]
  },
  {
   "cell_type": "code",
   "execution_count": 3,
   "metadata": {},
   "outputs": [],
   "source": [
    "from lib import data, transformers\n",
    "from lib.model import get_features_pipe, get_model_pipe"
   ]
  },
  {
   "cell_type": "code",
   "execution_count": 4,
   "metadata": {},
   "outputs": [
    {
     "name": "stdout",
     "output_type": "stream",
     "text": [
      "Loading title basics...\n"
     ]
    },
    {
     "name": "stderr",
     "output_type": "stream",
     "text": [
      "/Users/przivic/anaconda3/lib/python3.8/site-packages/IPython/core/interactiveshell.py:3343: DtypeWarning: Columns (5) have mixed types. Specify dtype option on import or set low_memory=False.\n",
      "  exec(code_obj, self.user_global_ns, self.user_ns)\n"
     ]
    },
    {
     "name": "stdout",
     "output_type": "stream",
     "text": [
      "Loading title ratings...\n",
      "Loading movie directors...\n",
      "Merging everything...\n"
     ]
    }
   ],
   "source": [
    "PATH = Path('../../data/')\n",
    "movies_df = data.load_data(PATH)"
   ]
  },
  {
   "cell_type": "code",
   "execution_count": null,
   "metadata": {},
   "outputs": [],
   "source": [
    "principals_df = pd.read_csv(PATH / 'title.principals.tsv', sep='\\t')"
   ]
  },
  {
   "cell_type": "code",
   "execution_count": null,
   "metadata": {},
   "outputs": [],
   "source": [
    "principals_df.head()"
   ]
  },
  {
   "cell_type": "code",
   "execution_count": null,
   "metadata": {},
   "outputs": [],
   "source": [
    "principals_df.category.value_counts()"
   ]
  },
  {
   "cell_type": "code",
   "execution_count": null,
   "metadata": {},
   "outputs": [],
   "source": [
    "# Sacado del codigo de directores\n",
    "\n",
    "movies_stars = principals_df[principals_df.category.isin(['actress', 'actor'])].copy()\n",
    "\n",
    "# Calculo un ranking por pelicula segun el ordering\n",
    "movies_stars['star_rank'] = (\n",
    "    movies_stars.sort_values('ordering')\n",
    "        .groupby('tconst')\n",
    "        .cumcount()\n",
    ")\n",
    "\n",
    "# Me quedo con el \"director principal\" por pelicula\n",
    "first_star = movies_stars[movies_stars.star_rank == 0][['nconst', 'tconst']].rename(columns={'nconst': '1st_star'})\n",
    "second_star = movies_stars[movies_stars.star_rank == 1][['nconst', 'tconst']].rename(columns={'nconst': '2nd_star'})\n",
    "third_star = movies_stars[movies_stars.star_rank == 2][['nconst', 'tconst']].rename(columns={'nconst': '3rd_star'})"
   ]
  },
  {
   "cell_type": "code",
   "execution_count": null,
   "metadata": {},
   "outputs": [],
   "source": [
    "stars_df = first_star.merge(second_star, how='left', on='tconst').merge(third_star, how='left', on='tconst')"
   ]
  },
  {
   "cell_type": "code",
   "execution_count": null,
   "metadata": {},
   "outputs": [],
   "source": [
    "stars_df.head()"
   ]
  },
  {
   "cell_type": "code",
   "execution_count": null,
   "metadata": {},
   "outputs": [],
   "source": [
    "stars_df[stars_df.tconst == 'tt0120338']"
   ]
  },
  {
   "cell_type": "code",
   "execution_count": null,
   "metadata": {},
   "outputs": [],
   "source": [
    "movies_df = movies_df.merge(stars_df, on='tconst', how='left')"
   ]
  },
  {
   "cell_type": "code",
   "execution_count": null,
   "metadata": {},
   "outputs": [],
   "source": [
    "movies_df.head()"
   ]
  },
  {
   "cell_type": "markdown",
   "metadata": {},
   "source": [
    "# Ahora  vamos a experimentar!\n",
    "\n",
    "Como podemos hacer para usar 1st_star y 2nd_star con el código que **ya** tenemos? [Miremos el diff](https://github.com/elsonidoq/machine_learning_practico/commit/1244da3daee2f7aff140d202885e6e8dba55c099)"
   ]
  },
  {
   "cell_type": "code",
   "execution_count": null,
   "metadata": {},
   "outputs": [],
   "source": [
    "rating_data = data.load_rating_train_dev_test(movies_df)"
   ]
  },
  {
   "cell_type": "code",
   "execution_count": null,
   "metadata": {},
   "outputs": [],
   "source": [
    "pipe = make_pipeline(\n",
    "    transformers.CrewFeatures('1st_star', min_cnt_movies=3),\n",
    "    DictVectorizer(sparse=False),\n",
    "    StandardScaler(),\n",
    "    LogisticRegression()\n",
    ")"
   ]
  },
  {
   "cell_type": "code",
   "execution_count": null,
   "metadata": {},
   "outputs": [],
   "source": [
    "pipe.fit(rating_data['X_train'], rating_data['y_train'] > 7.5)\n",
    "\n",
    "tr_auc = roc_auc_score(rating_data['y_train'] > 7.5, pipe.predict_proba(rating_data['X_train'])[:, 1])\n",
    "dev_auc = roc_auc_score(rating_data['y_dev'] > 7.5, pipe.predict_proba(rating_data['X_dev'])[:, 1])\n",
    "\n",
    "tr_auc, dev_auc"
   ]
  },
  {
   "cell_type": "code",
   "execution_count": null,
   "metadata": {},
   "outputs": [],
   "source": [
    "pipe = make_pipeline(\n",
    "    make_union(\n",
    "        make_pipeline(director_features.CrewFeatures('1st_star', min_cnt_movies=5), DictVectorizer(sparse=False)),\n",
    "        make_pipeline(director_features.CrewFeatures('2nd_star', min_cnt_movies=5), DictVectorizer(sparse=False)),\n",
    "        make_pipeline(director_features.CrewFeatures('3rd_star', min_cnt_movies=5), DictVectorizer(sparse=False)),\n",
    "    ),\n",
    "    StandardScaler(),\n",
    "    LogisticRegression()\n",
    ")"
   ]
  },
  {
   "cell_type": "code",
   "execution_count": null,
   "metadata": {},
   "outputs": [],
   "source": [
    "pipe.fit(rating_data['X_train'], rating_data['y_train'] > 7.5)\n",
    "\n",
    "tr_auc = roc_auc_score(rating_data['y_train'] > 7.5, pipe.predict_proba(rating_data['X_train'])[:, 1])\n",
    "dev_auc = roc_auc_score(rating_data['y_dev'] > 7.5, pipe.predict_proba(rating_data['X_dev'])[:, 1])\n",
    "\n",
    "tr_auc, dev_auc"
   ]
  },
  {
   "cell_type": "markdown",
   "metadata": {},
   "source": [
    "# Probando todo junto"
   ]
  },
  {
   "cell_type": "code",
   "execution_count": null,
   "metadata": {},
   "outputs": [],
   "source": [
    "pipe = make_pipeline(\n",
    "    make_union(\n",
    "        make_pipeline(transformers.CrewFeatures('1st_star', min_cnt_movies=6), DictVectorizer(sparse=False)),\n",
    "        make_pipeline(transformers.CrewFeatures('2nd_star', min_cnt_movies=6), DictVectorizer(sparse=False)),\n",
    "        make_pipeline(transformers.CrewFeatures('3rd_star', min_cnt_movies=6), DictVectorizer(sparse=False)),\n",
    "        make_pipeline(transformers.CrewFeatures('director', min_cnt_movies=6), DictVectorizer(sparse=False)),\n",
    "        make_pipeline(transformers.YearsAgo(), DictVectorizer(sparse=False)),\n",
    "        make_pipeline(transformers.GenreDummies(), DictVectorizer(sparse=False)),\n",
    "    ),\n",
    "    StandardScaler(),\n",
    "    LogisticRegression(C=47, penalty='l1', solver='saga')\n",
    ")"
   ]
  },
  {
   "cell_type": "code",
   "execution_count": null,
   "metadata": {},
   "outputs": [],
   "source": [
    "pipe.fit(rating_data['X_train'], rating_data['y_train'] > 7.5)\n",
    "\n",
    "tr_auc = roc_auc_score(rating_data['y_train'] > 7.5, pipe.predict_proba(rating_data['X_train'])[:, 1])\n",
    "dev_auc = roc_auc_score(rating_data['y_dev'] > 7.5, pipe.predict_proba(rating_data['X_dev'])[:, 1])\n",
    "\n",
    "tr_auc, dev_auc"
   ]
  }
 ],
 "metadata": {
  "kernelspec": {
   "display_name": "Python 3",
   "language": "python",
   "name": "python3"
  },
  "language_info": {
   "codemirror_mode": {
    "name": "ipython",
    "version": 3
   },
   "file_extension": ".py",
   "mimetype": "text/x-python",
   "name": "python",
   "nbconvert_exporter": "python",
   "pygments_lexer": "ipython3",
   "version": "3.8.3"
  }
 },
 "nbformat": 4,
 "nbformat_minor": 4
}
